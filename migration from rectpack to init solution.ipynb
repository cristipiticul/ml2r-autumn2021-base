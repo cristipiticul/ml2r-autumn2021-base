{
 "cells": [
  {
   "cell_type": "code",
   "execution_count": 5,
   "id": "b855a16d",
   "metadata": {},
   "outputs": [],
   "source": [
    "import Base.bp2DState\n",
    "from Base.bp2DSimpleHeuristics import single_type_heuristic, first_fit, next_fit, most_enclosed_position, max_rest, \\\n",
    "    best_fit, first_fit_decreasing, next_fit_decreasing, get_all_heuristics, random_fit\n",
    "from Base.bp2DState import State\n",
    "from Base.bpReadWrite import ReadWrite\n",
    "from Base.bp2DBox import Box\n",
    "from Base.bpStateGenerators import random_state_generator, state_generator\n",
    "import time\n",
    "\n",
    "from Base.bp2DPlot import plot_packing_state\n",
    "from Base.bp2DSimpleHeuristicsFunctions import most_enclosed_position_in_bin\n",
    "from Base.bp2DState import Bin\n",
    "from Base.bp2DState import Action, State\n",
    "from Base.bpUtil import *\n",
    "from Base.bpStateGenerators import random_state_generator\n",
    "import matplotlib.pyplot as plt\n",
    "from rectpack import SORT_AREA, PackingMode, PackingBin, newPacker\n",
    "\n",
    "from rectpack import (MaxRectsBl, MaxRectsBssf, MaxRectsBaf, MaxRectsBlsf,\n",
    "SkylineBl, SkylineBlWm, SkylineMwf, SkylineMwfl, SkylineMwfWm, SkylineMwflWm,\n",
    "GuillotineBssfSas, GuillotineBssfSlas, GuillotineBssfLlas, GuillotineBssfMaxas,\n",
    "GuillotineBssfMinas, GuillotineBlsfSas, GuillotineBlsfLas, GuillotineBlsfSlas, GuillotineBlsfLlas, \n",
    "                     GuillotineBlsfMaxas, GuillotineBlsfMinas, GuillotineBafSas, GuillotineBafLas,\n",
    "                     GuillotineBafSlas, GuillotineBafLlas, GuillotineBafMaxas, GuillotineBafMinas)"
   ]
  },
  {
   "cell_type": "code",
   "execution_count": 30,
   "id": "02f4dd7a",
   "metadata": {},
   "outputs": [],
   "source": [
    "count = 5000\n",
    "test_state = random_state_generator((10, 10),count,1,3,2,8)\n",
    "path = f\"test_instances/small_{count}\"\n",
    "    \n",
    "ReadWrite.write_state(path=path, state=test_state)"
   ]
  },
  {
   "cell_type": "code",
   "execution_count": 31,
   "id": "d08fde50",
   "metadata": {},
   "outputs": [],
   "source": [
    "packer = newPacker(mode=PackingMode.Offline, pack_algo=GuillotineBafMinas,bin_algo = PackingBin.BBF,  sort_algo= SORT_AREA, rotation = False)\n",
    "for box in test_state.boxes_open:\n",
    "    packer.add_rect(box.w, box.h)\n",
    "# Add the bins where the rectangles will be placed\n",
    "packer.add_bin(*test_state.bin_size, float(\"inf\"))\n",
    "packer.pack()"
   ]
  },
  {
   "cell_type": "code",
   "execution_count": 32,
   "id": "ccd7f588",
   "metadata": {},
   "outputs": [],
   "source": [
    "lst = packer.rect_list()\n",
    "boxes = [(x[3], x[4]) for x in lst]"
   ]
  },
  {
   "cell_type": "code",
   "execution_count": 33,
   "id": "0aaca301",
   "metadata": {},
   "outputs": [],
   "source": [
    "#tmp = State(nbins = lst[-1][0], bin_size = test_state.bin_size, boxes_open = boxes)\n",
    "tmp = State(nbins = lst[-1][0] + 1, bin_size = test_state.bin_size, boxes_open = [])"
   ]
  },
  {
   "cell_type": "code",
   "execution_count": 34,
   "id": "9b206837",
   "metadata": {},
   "outputs": [],
   "source": [
    "for bin_ind, x, y, b_x, b_y, _ in lst:\n",
    "    tmp.place_box_in_bin_at_pnt(Box(b_x, b_y), bin_ind, Point(x, y))"
   ]
  },
  {
   "cell_type": "code",
   "execution_count": 35,
   "id": "ceb364a9",
   "metadata": {},
   "outputs": [
    {
     "name": "stdout",
     "output_type": "stream",
     "text": [
      "Is solution of rectpack valid? True!\n"
     ]
    }
   ],
   "source": [
    "print(f\"Is solution of {'rectpack'} valid? {tmp.is_valid(test_state)}!\")"
   ]
  },
  {
   "cell_type": "code",
   "execution_count": null,
   "id": "2e115e34",
   "metadata": {},
   "outputs": [],
   "source": []
  }
 ],
 "metadata": {
  "kernelspec": {
   "display_name": "Python 3 (ipykernel)",
   "language": "python",
   "name": "python3"
  },
  "language_info": {
   "codemirror_mode": {
    "name": "ipython",
    "version": 3
   },
   "file_extension": ".py",
   "mimetype": "text/x-python",
   "name": "python",
   "nbconvert_exporter": "python",
   "pygments_lexer": "ipython3",
   "version": "3.8.5"
  }
 },
 "nbformat": 4,
 "nbformat_minor": 5
}

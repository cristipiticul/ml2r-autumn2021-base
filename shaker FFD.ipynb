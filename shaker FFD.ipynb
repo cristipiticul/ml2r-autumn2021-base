{
 "cells": [
  {
   "cell_type": "code",
   "execution_count": 7,
   "id": "e60b8421",
   "metadata": {},
   "outputs": [],
   "source": [
    "import Base.bp2DState\n",
    "from Base.bp2DSimpleHeuristics import single_type_heuristic, first_fit, next_fit, most_enclosed_position, max_rest, \\\n",
    "    best_fit, first_fit_decreasing, next_fit_decreasing, get_all_heuristics, random_fit\n",
    "from Base.bp2DState import State\n",
    "from Base.bpReadWrite import ReadWrite\n",
    "from Base.bp2DBox import Box\n",
    "from Base.bpStateGenerators import random_state_generator, state_generator\n",
    "import time\n",
    "\n",
    "from Base.bp2DPlot import plot_packing_state\n",
    "from Base.bp2DSimpleHeuristicsFunctions import most_enclosed_position_in_bin\n",
    "from Base.bp2DState import Bin\n",
    "from Base.bp2DState import Action, State\n",
    "from Base.bpUtil import *\n",
    "from Base.bpStateGenerators import random_state_generator\n"
   ]
  },
  {
   "cell_type": "code",
   "execution_count": null,
   "id": "d536d53c",
   "metadata": {},
   "outputs": [],
   "source": [
    "state = state_generator(bin_size=(10, 10),\n",
    "                    box_list=[(1, (1, 10)), (1, (1, 9)), (1, (9, 1)), (1, (1, 8)), (1, (8, 1)),\n",
    "                              (1, (1, 7)), (1, (7, 1)), (1, (1, 6)), (1, (6, 6))], seed=10)"
   ]
  },
  {
   "cell_type": "code",
   "execution_count": 43,
   "id": "f785ba76",
   "metadata": {},
   "outputs": [],
   "source": [
    "path = \"test_instances/heuristics_test_state_big\" "
   ]
  },
  {
   "cell_type": "code",
   "execution_count": 44,
   "id": "52b2b5cd",
   "metadata": {},
   "outputs": [],
   "source": [
    "state = ReadWrite.read_state(path)"
   ]
  },
  {
   "cell_type": "code",
   "execution_count": 45,
   "id": "dc5c5ee4",
   "metadata": {},
   "outputs": [],
   "source": [
    "def ffd_fast(state: State, plot_result=False, plot_steps=False, plot_name=None):\n",
    "    '''ffd'''\n",
    "    start = time.time()\n",
    "    step = 0\n",
    "    name = 'ffd_plot'\n",
    "    if plot_name is not None:\n",
    "        name = plot_name\n",
    "    sort_boxes_in_state(state)\n",
    "    while state.has_open_boxes():\n",
    "        box = state.get_next_open_box()\n",
    "        first_fit(state, box)\n",
    "\n",
    "        if plot_steps:\n",
    "            plot_packing_state(state=state, step=step, fname=f\"./vis/{name}_step\")\n",
    "            step += 1\n",
    "    if plot_result:\n",
    "        plot_packing_state(state, fname=f\"./vis/{name}_result\")\n",
    "    state.solution_runtime = time.time() - start"
   ]
  },
  {
   "cell_type": "code",
   "execution_count": 46,
   "id": "850d9014",
   "metadata": {},
   "outputs": [
    {
     "ename": "KeyboardInterrupt",
     "evalue": "",
     "output_type": "error",
     "traceback": [
      "\u001b[1;31m---------------------------------------------------------------------------\u001b[0m",
      "\u001b[1;31mKeyboardInterrupt\u001b[0m                         Traceback (most recent call last)",
      "\u001b[1;32m~\\AppData\\Local\\Temp/ipykernel_2044/437873827.py\u001b[0m in \u001b[0;36m<module>\u001b[1;34m\u001b[0m\n\u001b[1;32m----> 1\u001b[1;33m \u001b[0mffd_fast\u001b[0m\u001b[1;33m(\u001b[0m\u001b[0mstate\u001b[0m\u001b[1;33m)\u001b[0m\u001b[1;33m\u001b[0m\u001b[1;33m\u001b[0m\u001b[0m\n\u001b[0m",
      "\u001b[1;32m~\\AppData\\Local\\Temp/ipykernel_2044/3848999827.py\u001b[0m in \u001b[0;36mffd_fast\u001b[1;34m(state, plot_result, plot_steps, plot_name)\u001b[0m\n\u001b[0;32m      9\u001b[0m     \u001b[1;32mwhile\u001b[0m \u001b[0mstate\u001b[0m\u001b[1;33m.\u001b[0m\u001b[0mhas_open_boxes\u001b[0m\u001b[1;33m(\u001b[0m\u001b[1;33m)\u001b[0m\u001b[1;33m:\u001b[0m\u001b[1;33m\u001b[0m\u001b[1;33m\u001b[0m\u001b[0m\n\u001b[0;32m     10\u001b[0m         \u001b[0mbox\u001b[0m \u001b[1;33m=\u001b[0m \u001b[0mstate\u001b[0m\u001b[1;33m.\u001b[0m\u001b[0mget_next_open_box\u001b[0m\u001b[1;33m(\u001b[0m\u001b[1;33m)\u001b[0m\u001b[1;33m\u001b[0m\u001b[1;33m\u001b[0m\u001b[0m\n\u001b[1;32m---> 11\u001b[1;33m         \u001b[0mfirst_fit\u001b[0m\u001b[1;33m(\u001b[0m\u001b[0mstate\u001b[0m\u001b[1;33m,\u001b[0m \u001b[0mbox\u001b[0m\u001b[1;33m)\u001b[0m\u001b[1;33m\u001b[0m\u001b[1;33m\u001b[0m\u001b[0m\n\u001b[0m\u001b[0;32m     12\u001b[0m \u001b[1;33m\u001b[0m\u001b[0m\n\u001b[0;32m     13\u001b[0m         \u001b[1;32mif\u001b[0m \u001b[0mplot_steps\u001b[0m\u001b[1;33m:\u001b[0m\u001b[1;33m\u001b[0m\u001b[1;33m\u001b[0m\u001b[0m\n",
      "\u001b[1;32mD:\\Desktop\\reps\\autumn2021-base\\Base\\bp2DSimpleHeuristics.py\u001b[0m in \u001b[0;36mfirst_fit\u001b[1;34m(state, box)\u001b[0m\n\u001b[0;32m     38\u001b[0m     \u001b[0mplacement_success\u001b[0m \u001b[1;33m=\u001b[0m \u001b[1;32mFalse\u001b[0m\u001b[1;33m\u001b[0m\u001b[1;33m\u001b[0m\u001b[0m\n\u001b[0;32m     39\u001b[0m     \u001b[1;32mfor\u001b[0m \u001b[0mi\u001b[0m \u001b[1;32min\u001b[0m \u001b[0mrange\u001b[0m\u001b[1;33m(\u001b[0m\u001b[0mlen\u001b[0m\u001b[1;33m(\u001b[0m\u001b[0mstate\u001b[0m\u001b[1;33m.\u001b[0m\u001b[0mbins\u001b[0m\u001b[1;33m)\u001b[0m\u001b[1;33m)\u001b[0m\u001b[1;33m:\u001b[0m\u001b[1;33m\u001b[0m\u001b[1;33m\u001b[0m\u001b[0m\n\u001b[1;32m---> 40\u001b[1;33m         \u001b[0mplacement_success\u001b[0m \u001b[1;33m=\u001b[0m \u001b[0mstate\u001b[0m\u001b[1;33m.\u001b[0m\u001b[0mplace_box_in_bin\u001b[0m\u001b[1;33m(\u001b[0m\u001b[0mbox\u001b[0m\u001b[1;33m,\u001b[0m \u001b[0mi\u001b[0m\u001b[1;33m)\u001b[0m\u001b[1;33m\u001b[0m\u001b[1;33m\u001b[0m\u001b[0m\n\u001b[0m\u001b[0;32m     41\u001b[0m         \u001b[1;32mif\u001b[0m \u001b[0mplacement_success\u001b[0m\u001b[1;33m:\u001b[0m\u001b[1;33m\u001b[0m\u001b[1;33m\u001b[0m\u001b[0m\n\u001b[0;32m     42\u001b[0m             \u001b[1;32mbreak\u001b[0m\u001b[1;33m\u001b[0m\u001b[1;33m\u001b[0m\u001b[0m\n",
      "\u001b[1;32mD:\\Desktop\\reps\\autumn2021-base\\Base\\bp2DState.py\u001b[0m in \u001b[0;36mplace_box_in_bin\u001b[1;34m(self, box, i)\u001b[0m\n\u001b[0;32m     29\u001b[0m         \u001b[0mpnts_open\u001b[0m \u001b[1;33m=\u001b[0m \u001b[0mself\u001b[0m\u001b[1;33m.\u001b[0m\u001b[0mget_open_pnts_of_bin_i\u001b[0m\u001b[1;33m(\u001b[0m\u001b[0mi\u001b[0m\u001b[1;33m)\u001b[0m\u001b[1;33m\u001b[0m\u001b[1;33m\u001b[0m\u001b[0m\n\u001b[0;32m     30\u001b[0m         \u001b[1;32mfor\u001b[0m \u001b[0mpnt\u001b[0m \u001b[1;32min\u001b[0m \u001b[0mpnts_open\u001b[0m\u001b[1;33m:\u001b[0m\u001b[1;33m\u001b[0m\u001b[1;33m\u001b[0m\u001b[0m\n\u001b[1;32m---> 31\u001b[1;33m             \u001b[1;32mif\u001b[0m \u001b[0mself\u001b[0m\u001b[1;33m.\u001b[0m\u001b[0mplace_box_in_bin_at_pnt\u001b[0m\u001b[1;33m(\u001b[0m\u001b[0mbox\u001b[0m\u001b[1;33m,\u001b[0m \u001b[0mi\u001b[0m\u001b[1;33m,\u001b[0m \u001b[0mpnt\u001b[0m\u001b[1;33m)\u001b[0m\u001b[1;33m:\u001b[0m\u001b[1;33m\u001b[0m\u001b[1;33m\u001b[0m\u001b[0m\n\u001b[0m\u001b[0;32m     32\u001b[0m                 \u001b[1;32mreturn\u001b[0m \u001b[1;32mTrue\u001b[0m  \u001b[1;31m# placement successful\u001b[0m\u001b[1;33m\u001b[0m\u001b[1;33m\u001b[0m\u001b[0m\n\u001b[0;32m     33\u001b[0m \u001b[1;33m\u001b[0m\u001b[0m\n",
      "\u001b[1;32mD:\\Desktop\\reps\\autumn2021-base\\Base\\bp2DState.py\u001b[0m in \u001b[0;36mplace_box_in_bin_at_pnt\u001b[1;34m(self, box, i, pnt)\u001b[0m\n\u001b[0;32m     21\u001b[0m         \u001b[1;31m# \"logic\" checks if path to point is reachable\u001b[0m\u001b[1;33m\u001b[0m\u001b[1;33m\u001b[0m\u001b[1;33m\u001b[0m\u001b[0m\n\u001b[0;32m     22\u001b[0m         \u001b[1;31m# TODO: here we can add constraints on the placement, eg check for \"gravity\" constraints\u001b[0m\u001b[1;33m\u001b[0m\u001b[1;33m\u001b[0m\u001b[1;33m\u001b[0m\u001b[0m\n\u001b[1;32m---> 23\u001b[1;33m         \u001b[1;32mreturn\u001b[0m \u001b[0mself\u001b[0m\u001b[1;33m.\u001b[0m\u001b[0mbins\u001b[0m\u001b[1;33m[\u001b[0m\u001b[0mi\u001b[0m\u001b[1;33m]\u001b[0m\u001b[1;33m.\u001b[0m\u001b[0mplace_box_at_pnt\u001b[0m\u001b[1;33m(\u001b[0m\u001b[0mbox\u001b[0m\u001b[1;33m,\u001b[0m \u001b[0mpnt\u001b[0m\u001b[1;33m)\u001b[0m\u001b[1;33m\u001b[0m\u001b[1;33m\u001b[0m\u001b[0m\n\u001b[0m\u001b[0;32m     24\u001b[0m \u001b[1;33m\u001b[0m\u001b[0m\n\u001b[0;32m     25\u001b[0m     \u001b[1;32mdef\u001b[0m \u001b[0mplace_box_in_bin\u001b[0m\u001b[1;33m(\u001b[0m\u001b[0mself\u001b[0m\u001b[1;33m,\u001b[0m \u001b[0mbox\u001b[0m\u001b[1;33m:\u001b[0m \u001b[0mBox\u001b[0m\u001b[1;33m,\u001b[0m \u001b[0mi\u001b[0m\u001b[1;33m:\u001b[0m \u001b[0mint\u001b[0m\u001b[1;33m)\u001b[0m\u001b[1;33m:\u001b[0m\u001b[1;33m\u001b[0m\u001b[1;33m\u001b[0m\u001b[0m\n",
      "\u001b[1;32mD:\\Desktop\\reps\\autumn2021-base\\Base\\bp2DBin.py\u001b[0m in \u001b[0;36mplace_box_at_pnt\u001b[1;34m(self, box, pnt)\u001b[0m\n\u001b[0;32m     42\u001b[0m         \u001b[0mIf\u001b[0m \u001b[0mthe\u001b[0m \u001b[0moperation\u001b[0m \u001b[1;32mis\u001b[0m \u001b[0mfeasible\u001b[0m\u001b[1;33m,\u001b[0m \u001b[0mthe\u001b[0m \u001b[0mfunction\u001b[0m \u001b[0mmodifies\u001b[0m \u001b[0mthe\u001b[0m \u001b[0mset\u001b[0m \u001b[0mof\u001b[0m \u001b[0mopen\u001b[0m \u001b[0mpoints\u001b[0m \u001b[1;32mand\u001b[0m \u001b[0mthe\u001b[0m \u001b[0mlist\u001b[0m \u001b[0mof\u001b[0m \u001b[0mstored\u001b[0m \u001b[0mboxes\u001b[0m \u001b[1;32mand\u001b[0m \u001b[0mreturns\u001b[0m \u001b[1;32mTrue\u001b[0m\u001b[1;33m.\u001b[0m \u001b[0mOtherwise\u001b[0m \u001b[0mit\u001b[0m \u001b[0mdoes\u001b[0m \u001b[0mnothing\u001b[0m \u001b[1;32mand\u001b[0m \u001b[0mreturns\u001b[0m \u001b[1;32mFalse\u001b[0m\u001b[1;33m.\u001b[0m\u001b[1;33m\u001b[0m\u001b[1;33m\u001b[0m\u001b[0m\n\u001b[0;32m     43\u001b[0m         '''\n\u001b[1;32m---> 44\u001b[1;33m         \u001b[1;32mif\u001b[0m \u001b[0mself\u001b[0m\u001b[1;33m.\u001b[0m\u001b[0mcan_place_box_at_pnt\u001b[0m\u001b[1;33m(\u001b[0m\u001b[0mbox\u001b[0m\u001b[1;33m,\u001b[0m \u001b[0mpnt\u001b[0m\u001b[1;33m)\u001b[0m\u001b[1;33m:\u001b[0m\u001b[1;33m\u001b[0m\u001b[1;33m\u001b[0m\u001b[0m\n\u001b[0m\u001b[0;32m     45\u001b[0m             \u001b[0mbox\u001b[0m\u001b[1;33m.\u001b[0m\u001b[0mmove\u001b[0m\u001b[1;33m(\u001b[0m\u001b[0mpnt\u001b[0m\u001b[1;33m)\u001b[0m\u001b[1;33m\u001b[0m\u001b[1;33m\u001b[0m\u001b[0m\n\u001b[0;32m     46\u001b[0m             \u001b[0mself\u001b[0m\u001b[1;33m.\u001b[0m\u001b[0mboxes_stored\u001b[0m\u001b[1;33m.\u001b[0m\u001b[0mappend\u001b[0m\u001b[1;33m(\u001b[0m\u001b[0mbox\u001b[0m\u001b[1;33m)\u001b[0m\u001b[1;33m\u001b[0m\u001b[1;33m\u001b[0m\u001b[0m\n",
      "\u001b[1;32mD:\\Desktop\\reps\\autumn2021-base\\Base\\bp2DBin.py\u001b[0m in \u001b[0;36mcan_place_box_at_pnt\u001b[1;34m(self, box, pnt)\u001b[0m\n\u001b[0;32m     26\u001b[0m \u001b[1;33m\u001b[0m\u001b[0m\n\u001b[0;32m     27\u001b[0m         \u001b[0mold_position\u001b[0m \u001b[1;33m=\u001b[0m \u001b[0mbox\u001b[0m\u001b[1;33m.\u001b[0m\u001b[0mbl\u001b[0m\u001b[1;33m.\u001b[0m\u001b[0mcopy\u001b[0m\u001b[1;33m(\u001b[0m\u001b[1;33m)\u001b[0m\u001b[1;33m\u001b[0m\u001b[1;33m\u001b[0m\u001b[0m\n\u001b[1;32m---> 28\u001b[1;33m         \u001b[0mbox\u001b[0m\u001b[1;33m.\u001b[0m\u001b[0mmove\u001b[0m\u001b[1;33m(\u001b[0m\u001b[0mpnt\u001b[0m\u001b[1;33m)\u001b[0m\u001b[1;33m\u001b[0m\u001b[1;33m\u001b[0m\u001b[0m\n\u001b[0m\u001b[0;32m     29\u001b[0m \u001b[1;33m\u001b[0m\u001b[0m\n\u001b[0;32m     30\u001b[0m         \u001b[1;32mif\u001b[0m \u001b[1;32mnot\u001b[0m \u001b[0mself\u001b[0m\u001b[1;33m.\u001b[0m\u001b[0mbounding_box\u001b[0m\u001b[1;33m.\u001b[0m\u001b[0mcontains_rectangle\u001b[0m\u001b[1;33m(\u001b[0m\u001b[0mbox\u001b[0m\u001b[1;33m)\u001b[0m\u001b[1;33m:\u001b[0m\u001b[1;33m\u001b[0m\u001b[1;33m\u001b[0m\u001b[0m\n",
      "\u001b[1;32mD:\\Desktop\\reps\\autumn2021-base\\Base\\bp2DBox.py\u001b[0m in \u001b[0;36mmove\u001b[1;34m(self, new_bl)\u001b[0m\n\u001b[0;32m     24\u001b[0m     \u001b[1;32mdef\u001b[0m \u001b[0mmove\u001b[0m\u001b[1;33m(\u001b[0m\u001b[0mself\u001b[0m\u001b[1;33m,\u001b[0m \u001b[0mnew_bl\u001b[0m\u001b[1;33m:\u001b[0m \u001b[0mPoint\u001b[0m\u001b[1;33m)\u001b[0m\u001b[1;33m:\u001b[0m\u001b[1;33m\u001b[0m\u001b[1;33m\u001b[0m\u001b[0m\n\u001b[0;32m     25\u001b[0m         \u001b[0mself\u001b[0m\u001b[1;33m.\u001b[0m\u001b[0mbl\u001b[0m \u001b[1;33m=\u001b[0m \u001b[0mnew_bl\u001b[0m\u001b[1;33m\u001b[0m\u001b[1;33m\u001b[0m\u001b[0m\n\u001b[1;32m---> 26\u001b[1;33m         \u001b[0mself\u001b[0m\u001b[1;33m.\u001b[0m\u001b[0mtr\u001b[0m \u001b[1;33m=\u001b[0m \u001b[0mself\u001b[0m\u001b[1;33m.\u001b[0m\u001b[0mbl\u001b[0m \u001b[1;33m+\u001b[0m \u001b[0mPoint\u001b[0m\u001b[1;33m(\u001b[0m\u001b[0mself\u001b[0m\u001b[1;33m.\u001b[0m\u001b[0mw\u001b[0m\u001b[1;33m,\u001b[0m \u001b[0mself\u001b[0m\u001b[1;33m.\u001b[0m\u001b[0mh\u001b[0m\u001b[1;33m)\u001b[0m\u001b[1;33m\u001b[0m\u001b[1;33m\u001b[0m\u001b[0m\n\u001b[0m\u001b[0;32m     27\u001b[0m \u001b[1;33m\u001b[0m\u001b[0m\n\u001b[0;32m     28\u001b[0m     \u001b[1;32mdef\u001b[0m \u001b[0mget_a\u001b[0m\u001b[1;33m(\u001b[0m\u001b[0mself\u001b[0m\u001b[1;33m)\u001b[0m\u001b[1;33m:\u001b[0m\u001b[1;33m\u001b[0m\u001b[1;33m\u001b[0m\u001b[0m\n",
      "\u001b[1;32mD:\\Desktop\\reps\\autumn2021-base\\Base\\bp2DPnt.py\u001b[0m in \u001b[0;36m__add__\u001b[1;34m(self, other)\u001b[0m\n\u001b[0;32m     21\u001b[0m \u001b[1;33m\u001b[0m\u001b[0m\n\u001b[0;32m     22\u001b[0m     \u001b[1;32mdef\u001b[0m \u001b[0m__add__\u001b[0m\u001b[1;33m(\u001b[0m\u001b[0mself\u001b[0m\u001b[1;33m,\u001b[0m \u001b[0mother\u001b[0m\u001b[1;33m)\u001b[0m\u001b[1;33m:\u001b[0m\u001b[1;33m\u001b[0m\u001b[1;33m\u001b[0m\u001b[0m\n\u001b[1;32m---> 23\u001b[1;33m         \u001b[1;32mreturn\u001b[0m \u001b[0mPoint\u001b[0m\u001b[1;33m(\u001b[0m\u001b[0mself\u001b[0m\u001b[1;33m.\u001b[0m\u001b[0mcoord\u001b[0m\u001b[1;33m[\u001b[0m\u001b[1;36m0\u001b[0m\u001b[1;33m]\u001b[0m \u001b[1;33m+\u001b[0m \u001b[0mother\u001b[0m\u001b[1;33m.\u001b[0m\u001b[0mcoord\u001b[0m\u001b[1;33m[\u001b[0m\u001b[1;36m0\u001b[0m\u001b[1;33m]\u001b[0m\u001b[1;33m,\u001b[0m \u001b[0mself\u001b[0m\u001b[1;33m.\u001b[0m\u001b[0mcoord\u001b[0m\u001b[1;33m[\u001b[0m\u001b[1;36m1\u001b[0m\u001b[1;33m]\u001b[0m \u001b[1;33m+\u001b[0m \u001b[0mother\u001b[0m\u001b[1;33m.\u001b[0m\u001b[0mcoord\u001b[0m\u001b[1;33m[\u001b[0m\u001b[1;36m1\u001b[0m\u001b[1;33m]\u001b[0m\u001b[1;33m)\u001b[0m\u001b[1;33m\u001b[0m\u001b[1;33m\u001b[0m\u001b[0m\n\u001b[0m\u001b[0;32m     24\u001b[0m \u001b[1;33m\u001b[0m\u001b[0m\n\u001b[0;32m     25\u001b[0m     \u001b[1;32mdef\u001b[0m \u001b[0m__hash__\u001b[0m\u001b[1;33m(\u001b[0m\u001b[0mself\u001b[0m\u001b[1;33m)\u001b[0m\u001b[1;33m:\u001b[0m\u001b[1;33m\u001b[0m\u001b[1;33m\u001b[0m\u001b[0m\n",
      "\u001b[1;31mKeyboardInterrupt\u001b[0m: "
     ]
    }
   ],
   "source": [
    "ffd_fast(state)\n"
   ]
  },
  {
   "cell_type": "code",
   "execution_count": 49,
   "id": "e324e366",
   "metadata": {},
   "outputs": [],
   "source": [
    "init = ReadWrite.read_state(path)"
   ]
  },
  {
   "cell_type": "code",
   "execution_count": null,
   "id": "74376bbf",
   "metadata": {},
   "outputs": [],
   "source": [
    "f\"Is solution of {'fast ffd'} valid? {state.is_valid(init)}!\""
   ]
  },
  {
   "cell_type": "code",
   "execution_count": null,
   "id": "74f6ad9b",
   "metadata": {},
   "outputs": [],
   "source": [
    "len(state.bins)"
   ]
  },
  {
   "cell_type": "code",
   "execution_count": null,
   "id": "946d2b33",
   "metadata": {},
   "outputs": [],
   "source": [
    "len(init.boxes_open)"
   ]
  },
  {
   "cell_type": "code",
   "execution_count": 20,
   "id": "7c90924a",
   "metadata": {},
   "outputs": [
    {
     "name": "stdout",
     "output_type": "stream",
     "text": [
      "Is solution of most_enclosed_position valid? True!\n",
      "77\n"
     ]
    }
   ],
   "source": [
    "solution = ReadWrite.read_state(path)\n",
    "single_type_heuristic(solution, most_enclosed_position)\n",
    "print(f\"Is solution of {'most_enclosed_position'} valid? {solution.is_valid(init)}!\")\n",
    "print(f\"{len(solution.bins)}\")"
   ]
  },
  {
   "cell_type": "code",
   "execution_count": 23,
   "id": "2e66a5c5",
   "metadata": {},
   "outputs": [
    {
     "data": {
      "text/plain": [
       "22.60828161239624"
      ]
     },
     "execution_count": 23,
     "metadata": {},
     "output_type": "execute_result"
    }
   ],
   "source": [
    "solution.solution_runtime"
   ]
  },
  {
   "cell_type": "code",
   "execution_count": 22,
   "id": "4ef960f4",
   "metadata": {},
   "outputs": [
    {
     "data": {
      "text/plain": [
       "7.8712358474731445"
      ]
     },
     "execution_count": 22,
     "metadata": {},
     "output_type": "execute_result"
    }
   ],
   "source": [
    "state.solution_runtime"
   ]
  },
  {
   "cell_type": "code",
   "execution_count": 54,
   "id": "66c5b5c0",
   "metadata": {},
   "outputs": [],
   "source": [
    "def ffd_shaker(state: State, plot_result=False, plot_steps=False, plot_name=None, speed_mode = False):\n",
    "    '''ffd shaker'''\n",
    "    start = time.time()\n",
    "    step = 0\n",
    "    name = 'ffd_shaker_plot'\n",
    "    if plot_name is not None:\n",
    "        name = plot_name\n",
    "    sort_boxes_in_state(state)\n",
    "    fill_state = False\n",
    "    last_bin = 0\n",
    "    while state.has_open_boxes():\n",
    "        box = state.get_next_open_box()\n",
    "        \n",
    "        if fill_state:\n",
    "        # in this state we try to fit smallest containers in remaining space, without creating new bins\n",
    "            placement_success = False\n",
    "            for i in range(last_bin, len(state.bins)):\n",
    "                placement_success = state.place_box_in_bin(box, i)\n",
    "                if placement_success:\n",
    "                    break\n",
    "\n",
    "            if not placement_success:\n",
    "                state.boxes_open = state.boxes_open[::-1]\n",
    "                fill_state = False\n",
    "                if speed_mode:\n",
    "                    last_bin = len(state.bins) - 1\n",
    "                    \n",
    "        else:\n",
    "         # in this state we create containers, until find the container, which fits into created bins \n",
    "            placement_success = False\n",
    "            for i in range(last_bin, len(state.bins)):\n",
    "                placement_success = state.check_if_fits_somewhere_in_box(box, i)\n",
    "                if placement_success:\n",
    "                    state.boxes_open = state.boxes_open[::-1]\n",
    "                    fill_state = True\n",
    "                    break\n",
    "\n",
    "            if not placement_success:\n",
    "                state.open_new_bin()\n",
    "                state.place_box_in_bin_at_pnt(box, -1, Point(0, 0))\n",
    "            \n",
    "\n",
    "        if plot_steps:\n",
    "            plot_packing_state(state=state, step=step, fname=f\"./vis/{name}_step\")\n",
    "            step += 1\n",
    "    if plot_result:\n",
    "        plot_packing_state(state, fname=f\"./vis/{name}_result\")\n",
    "    state.solution_runtime = time.time() - start"
   ]
  },
  {
   "cell_type": "markdown",
   "id": "7e2991b3",
   "metadata": {},
   "source": [
    "### shaker ffd solution"
   ]
  },
  {
   "cell_type": "code",
   "execution_count": 47,
   "id": "ca25b0de",
   "metadata": {},
   "outputs": [
    {
     "name": "stdout",
     "output_type": "stream",
     "text": [
      "Is solution of shaker ffd valid? False!\n",
      "1963\n"
     ]
    }
   ],
   "source": [
    "solution = ReadWrite.read_state(path)\n",
    "ffd_shaker(solution)\n",
    "#print(f\"Is solution of {'shaker ffd'} valid? {solution.is_valid(init)}!\")\n",
    "print(f\"{len(solution.bins)}\")"
   ]
  },
  {
   "cell_type": "code",
   "execution_count": 50,
   "id": "8dff98b6",
   "metadata": {},
   "outputs": [
    {
     "name": "stdout",
     "output_type": "stream",
     "text": [
      "Is solution of shaker ffd valid? True!\n"
     ]
    }
   ],
   "source": [
    "#validity works slow!\n",
    "print(f\"Is solution of {'shaker ffd'} valid? {solution.is_valid(init)}!\")"
   ]
  },
  {
   "cell_type": "code",
   "execution_count": 48,
   "id": "4c4d56da",
   "metadata": {},
   "outputs": [
    {
     "data": {
      "text/plain": [
       "2395.952022075653"
      ]
     },
     "execution_count": 48,
     "metadata": {},
     "output_type": "execute_result"
    }
   ],
   "source": [
    "solution.solution_runtime"
   ]
  },
  {
   "cell_type": "markdown",
   "id": "7330aa43",
   "metadata": {},
   "source": [
    "### comparing with mr - which is relatevly fast"
   ]
  },
  {
   "cell_type": "code",
   "execution_count": 51,
   "id": "bb661123",
   "metadata": {},
   "outputs": [
    {
     "name": "stdout",
     "output_type": "stream",
     "text": [
      "2728\n"
     ]
    }
   ],
   "source": [
    "solution_mr = ReadWrite.read_state(path)\n",
    "single_type_heuristic(solution_mr, max_rest)\n",
    "print(f\"{len(solution_mr.bins)}\")"
   ]
  },
  {
   "cell_type": "code",
   "execution_count": 52,
   "id": "99a2a6d0",
   "metadata": {},
   "outputs": [
    {
     "data": {
      "text/plain": [
       "16.820357084274292"
      ]
     },
     "execution_count": 52,
     "metadata": {},
     "output_type": "execute_result"
    }
   ],
   "source": [
    "solution_mr.solution_runtime"
   ]
  },
  {
   "cell_type": "markdown",
   "id": "5f5f42a4",
   "metadata": {},
   "source": [
    "### comparing with nf - which is the fastest"
   ]
  },
  {
   "cell_type": "code",
   "execution_count": 58,
   "id": "daa948cb",
   "metadata": {},
   "outputs": [
    {
     "name": "stdout",
     "output_type": "stream",
     "text": [
      "2850\n"
     ]
    }
   ],
   "source": [
    "solution_nf = ReadWrite.read_state(path)\n",
    "single_type_heuristic(solution_nf, next_fit)\n",
    "print(f\"{len(solution_nf.bins)}\")"
   ]
  },
  {
   "cell_type": "code",
   "execution_count": 59,
   "id": "80e7f78f",
   "metadata": {},
   "outputs": [
    {
     "data": {
      "text/plain": [
       "5.062244892120361"
      ]
     },
     "execution_count": 59,
     "metadata": {},
     "output_type": "execute_result"
    }
   ],
   "source": [
    "solution_nf.solution_runtime"
   ]
  },
  {
   "cell_type": "markdown",
   "id": "473faec5",
   "metadata": {},
   "source": [
    "### shaker ffd with heuristic"
   ]
  },
  {
   "cell_type": "code",
   "execution_count": 55,
   "id": "b6c86118",
   "metadata": {},
   "outputs": [
    {
     "name": "stdout",
     "output_type": "stream",
     "text": [
      "1963\n"
     ]
    }
   ],
   "source": [
    "solution_fast = ReadWrite.read_state(path)\n",
    "ffd_shaker(solution_fast, speed_mode=True)\n",
    "print(f\"{len(solution_fast.bins)}\")"
   ]
  },
  {
   "cell_type": "code",
   "execution_count": 57,
   "id": "dfce3ffe",
   "metadata": {},
   "outputs": [
    {
     "data": {
      "text/plain": [
       "9.30950665473938"
      ]
     },
     "execution_count": 57,
     "metadata": {},
     "output_type": "execute_result"
    }
   ],
   "source": [
    "solution_fast.solution_runtime"
   ]
  },
  {
   "cell_type": "markdown",
   "id": "c2b179a8",
   "metadata": {},
   "source": [
    "### extremes gen"
   ]
  },
  {
   "cell_type": "code",
   "execution_count": 61,
   "id": "c727ae4b",
   "metadata": {},
   "outputs": [],
   "source": [
    "test_state = random_state_generator((10, 10),5000,1,3,1,3)"
   ]
  },
  {
   "cell_type": "code",
   "execution_count": 65,
   "id": "b1ba338f",
   "metadata": {},
   "outputs": [],
   "source": [
    "for box in random_state_generator((10, 10),5000,8,10,8,10).boxes_open:\n",
    "    test_state.append_open_box(box)"
   ]
  },
  {
   "cell_type": "code",
   "execution_count": 72,
   "id": "dcb357f8",
   "metadata": {},
   "outputs": [],
   "source": [
    "ReadWrite.write_state(path=f\"test_instances/extremes_10k\", state=test_state)"
   ]
  },
  {
   "cell_type": "markdown",
   "id": "b1a71bdf",
   "metadata": {},
   "source": [
    "### MR"
   ]
  },
  {
   "cell_type": "code",
   "execution_count": 74,
   "id": "b4a199bd",
   "metadata": {},
   "outputs": [
    {
     "name": "stdout",
     "output_type": "stream",
     "text": [
      "5224\n"
     ]
    }
   ],
   "source": [
    "solution_mr = ReadWrite.read_state(f\"test_instances/extremes_10k\")\n",
    "single_type_heuristic(solution_mr, max_rest)\n",
    "print(f\"{len(solution_mr.bins)}\")"
   ]
  },
  {
   "cell_type": "code",
   "execution_count": 75,
   "id": "2ce11357",
   "metadata": {},
   "outputs": [
    {
     "data": {
      "text/plain": [
       "20.134422063827515"
      ]
     },
     "execution_count": 75,
     "metadata": {},
     "output_type": "execute_result"
    }
   ],
   "source": [
    "solution_mr.solution_runtime"
   ]
  },
  {
   "cell_type": "markdown",
   "id": "3887e907",
   "metadata": {},
   "source": [
    "### fast shaker ffd"
   ]
  },
  {
   "cell_type": "code",
   "execution_count": 79,
   "id": "5a1c4af6",
   "metadata": {},
   "outputs": [
    {
     "name": "stdout",
     "output_type": "stream",
     "text": [
      "5049\n"
     ]
    }
   ],
   "source": [
    "solution_fast = ReadWrite.read_state(f\"test_instances/extremes_10k\")\n",
    "ffd_shaker(solution_fast, speed_mode=True)\n",
    "print(f\"{len(solution_fast.bins)}\")"
   ]
  },
  {
   "cell_type": "code",
   "execution_count": 80,
   "id": "3c964341",
   "metadata": {},
   "outputs": [
    {
     "data": {
      "text/plain": [
       "1162.087031841278"
      ]
     },
     "execution_count": 80,
     "metadata": {},
     "output_type": "execute_result"
    }
   ],
   "source": [
    "solution_fast.solution_runtime"
   ]
  },
  {
   "cell_type": "markdown",
   "id": "bc73a0f7",
   "metadata": {},
   "source": [
    "### runtime of fast ffd really depends on disribution"
   ]
  },
  {
   "cell_type": "markdown",
   "id": "dc5368ea",
   "metadata": {},
   "source": [
    "### let's check results on default shaker ffd"
   ]
  },
  {
   "cell_type": "code",
   "execution_count": 82,
   "id": "b2231248",
   "metadata": {},
   "outputs": [
    {
     "name": "stdout",
     "output_type": "stream",
     "text": [
      "5049\n",
      "1894.6353840827942\n"
     ]
    }
   ],
   "source": [
    "solution_fast = ReadWrite.read_state(f\"test_instances/extremes_10k\")\n",
    "ffd_shaker(solution_fast)\n",
    "print(f\"{len(solution_fast.bins)}\")\n",
    "print(solution_fast.solution_runtime)"
   ]
  },
  {
   "cell_type": "code",
   "execution_count": null,
   "id": "11b8511e",
   "metadata": {},
   "outputs": [],
   "source": [
    "### runtime of fast ffd really depends on disribution"
   ]
  },
  {
   "cell_type": "code",
   "execution_count": null,
   "id": "88d0e867",
   "metadata": {},
   "outputs": [],
   "source": []
  },
  {
   "cell_type": "markdown",
   "id": "53ec1ea8",
   "metadata": {},
   "source": [
    "### on ffd"
   ]
  },
  {
   "cell_type": "code",
   "execution_count": null,
   "id": "dc904742",
   "metadata": {},
   "outputs": [],
   "source": [
    "solution_bf = ReadWrite.read_state(f\"test_instances/extremes_10k\")\n",
    "single_type_heuristic(solution_bf, best_fit)\n",
    "print(f\"{len(solution_bf)}\")\n",
    "print(solution_ffd.solution_runtime)"
   ]
  },
  {
   "cell_type": "code",
   "execution_count": 83,
   "id": "9e612463",
   "metadata": {},
   "outputs": [
    {
     "ename": "NameError",
     "evalue": "name 'fast_ffd' is not defined",
     "output_type": "error",
     "traceback": [
      "\u001b[1;31m---------------------------------------------------------------------------\u001b[0m",
      "\u001b[1;31mNameError\u001b[0m                                 Traceback (most recent call last)",
      "\u001b[1;32m~\\AppData\\Local\\Temp/ipykernel_2044/322206001.py\u001b[0m in \u001b[0;36m<module>\u001b[1;34m\u001b[0m\n\u001b[0;32m      1\u001b[0m \u001b[0msolution_ffd\u001b[0m \u001b[1;33m=\u001b[0m \u001b[0mReadWrite\u001b[0m\u001b[1;33m.\u001b[0m\u001b[0mread_state\u001b[0m\u001b[1;33m(\u001b[0m\u001b[1;34mf\"test_instances/extremes_10k\"\u001b[0m\u001b[1;33m)\u001b[0m\u001b[1;33m\u001b[0m\u001b[1;33m\u001b[0m\u001b[0m\n\u001b[1;32m----> 2\u001b[1;33m \u001b[0mfast_ffd\u001b[0m\u001b[1;33m(\u001b[0m\u001b[0msolution_ffd\u001b[0m\u001b[1;33m)\u001b[0m\u001b[1;33m\u001b[0m\u001b[1;33m\u001b[0m\u001b[0m\n\u001b[0m\u001b[0;32m      3\u001b[0m \u001b[0mprint\u001b[0m\u001b[1;33m(\u001b[0m\u001b[1;34mf\"{len(solution_ffd)}\"\u001b[0m\u001b[1;33m)\u001b[0m\u001b[1;33m\u001b[0m\u001b[1;33m\u001b[0m\u001b[0m\n\u001b[0;32m      4\u001b[0m \u001b[0mprint\u001b[0m\u001b[1;33m(\u001b[0m\u001b[0msolution_ffd\u001b[0m\u001b[1;33m.\u001b[0m\u001b[0msolution_runtime\u001b[0m\u001b[1;33m)\u001b[0m\u001b[1;33m\u001b[0m\u001b[1;33m\u001b[0m\u001b[0m\n",
      "\u001b[1;31mNameError\u001b[0m: name 'fast_ffd' is not defined"
     ]
    }
   ],
   "source": [
    "solution_ffd = ReadWrite.read_state(f\"test_instances/extremes_10k\")\n",
    "fast_ffd(solution_ffd)\n",
    "print(f\"{len(solution_ffd)}\")\n",
    "print(solution_ffd.solution_runtime)"
   ]
  },
  {
   "cell_type": "code",
   "execution_count": null,
   "id": "c64bcf46",
   "metadata": {},
   "outputs": [],
   "source": []
  }
 ],
 "metadata": {
  "kernelspec": {
   "display_name": "Python 3 (ipykernel)",
   "language": "python",
   "name": "python3"
  },
  "language_info": {
   "codemirror_mode": {
    "name": "ipython",
    "version": 3
   },
   "file_extension": ".py",
   "mimetype": "text/x-python",
   "name": "python",
   "nbconvert_exporter": "python",
   "pygments_lexer": "ipython3",
   "version": "3.8.5"
  }
 },
 "nbformat": 4,
 "nbformat_minor": 5
}

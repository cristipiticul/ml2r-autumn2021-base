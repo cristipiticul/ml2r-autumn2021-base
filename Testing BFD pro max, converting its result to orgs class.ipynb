{
 "cells": [
  {
   "cell_type": "code",
   "execution_count": 5,
   "id": "0320e3fe",
   "metadata": {},
   "outputs": [],
   "source": [
    "from ShakerBFDProMax import ShakerBFDProMax\n",
    "from converterFromRectPack import convert"
   ]
  },
  {
   "cell_type": "code",
   "execution_count": 6,
   "id": "3bab92f5",
   "metadata": {},
   "outputs": [],
   "source": [
    "import Base.bp2DState\n",
    "from Base.bp2DSimpleHeuristics import single_type_heuristic, first_fit, next_fit, most_enclosed_position, max_rest, \\\n",
    "    best_fit, first_fit_decreasing, next_fit_decreasing, get_all_heuristics, random_fit\n",
    "from Base.bp2DState import State\n",
    "from Base.bpReadWrite import ReadWrite\n",
    "from Base.bp2DBox import Box\n",
    "from Base.bpStateGenerators import random_state_generator, state_generator\n",
    "import time\n",
    "\n",
    "from Base.bp2DPlot import plot_packing_state\n",
    "from Base.bp2DSimpleHeuristicsFunctions import most_enclosed_position_in_bin\n",
    "from Base.bp2DState import Bin\n",
    "from Base.bp2DState import Action, State\n",
    "from Base.bpUtil import *\n",
    "from Base.bpStateGenerators import random_state_generator\n",
    "import matplotlib.pyplot as plt"
   ]
  },
  {
   "cell_type": "code",
   "execution_count": 7,
   "id": "ee2c9f35",
   "metadata": {},
   "outputs": [],
   "source": [
    "from rectpack import SORT_AREA, PackingMode, PackingBin, newPacker\n",
    "\n",
    "from rectpack import (MaxRectsBl, MaxRectsBssf, MaxRectsBaf, MaxRectsBlsf,\n",
    "SkylineBl, SkylineBlWm, SkylineMwf, SkylineMwfl, SkylineMwfWm, SkylineMwflWm,\n",
    "GuillotineBssfSas, GuillotineBssfSlas, GuillotineBssfLlas, GuillotineBssfMaxas,\n",
    "GuillotineBssfMinas, GuillotineBlsfSas, GuillotineBlsfLas, GuillotineBlsfSlas, GuillotineBlsfLlas, \n",
    "                     GuillotineBlsfMaxas, GuillotineBlsfMinas, GuillotineBafSas, GuillotineBafLas,\n",
    "                     GuillotineBafSlas, GuillotineBafLlas, GuillotineBafMaxas, GuillotineBafMinas)"
   ]
  },
  {
   "cell_type": "code",
   "execution_count": 8,
   "id": "46b446ce",
   "metadata": {},
   "outputs": [],
   "source": [
    "count = 500\n",
    "test_state = random_state_generator((10, 10),count,4,6,4,6)\n",
    "path = f\"test_instances/medium_{count}\"\n",
    "    \n",
    "ReadWrite.write_state(path=path, state=test_state)"
   ]
  },
  {
   "cell_type": "code",
   "execution_count": 9,
   "id": "cbb42035",
   "metadata": {},
   "outputs": [],
   "source": [
    "packer = ShakerBFDProMax(pack_algo=GuillotineBafMinas, rotation = False)\n",
    "for box in test_state.boxes_open:\n",
    "    packer.add_rect(box.w, box.h)\n",
    "# Add the bins where the rectangles will be placed\n",
    "packer.add_bin(*test_state.bin_size, float(\"inf\"))\n",
    "packer.pack()"
   ]
  },
  {
   "cell_type": "code",
   "execution_count": 10,
   "id": "cfeed5e6",
   "metadata": {},
   "outputs": [],
   "source": [
    "solution = convert(packer, (10, 10))"
   ]
  },
  {
   "cell_type": "code",
   "execution_count": 11,
   "id": "9511fd5f",
   "metadata": {},
   "outputs": [
    {
     "name": "stdout",
     "output_type": "stream",
     "text": [
      "Is solution of shaker BFD pro max valid? True!\n"
     ]
    }
   ],
   "source": [
    "print(f\"Is solution of {'shaker BFD pro max'} valid? {solution.is_valid(test_state)}!\")"
   ]
  },
  {
   "cell_type": "code",
   "execution_count": null,
   "id": "5bcd502b",
   "metadata": {},
   "outputs": [],
   "source": []
  }
 ],
 "metadata": {
  "kernelspec": {
   "display_name": "Python 3 (ipykernel)",
   "language": "python",
   "name": "python3"
  },
  "language_info": {
   "codemirror_mode": {
    "name": "ipython",
    "version": 3
   },
   "file_extension": ".py",
   "mimetype": "text/x-python",
   "name": "python",
   "nbconvert_exporter": "python",
   "pygments_lexer": "ipython3",
   "version": "3.8.5"
  }
 },
 "nbformat": 4,
 "nbformat_minor": 5
}
